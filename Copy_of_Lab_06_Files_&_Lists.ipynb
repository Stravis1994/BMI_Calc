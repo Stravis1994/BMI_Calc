{
  "nbformat": 4,
  "nbformat_minor": 0,
  "metadata": {
    "colab": {
      "provenance": [],
      "include_colab_link": true
    },
    "kernelspec": {
      "name": "python3",
      "display_name": "Python 3"
    },
    "language_info": {
      "name": "python"
    }
  },
  "cells": [
    {
      "cell_type": "markdown",
      "metadata": {
        "id": "view-in-github",
        "colab_type": "text"
      },
      "source": [
        "<a href=\"https://colab.research.google.com/github/Stravis1994/BMI_Calc/blob/main/Copy_of_Lab_06_Files_%26_Lists.ipynb\" target=\"_parent\"><img src=\"https://colab.research.google.com/assets/colab-badge.svg\" alt=\"Open In Colab\"/></a>"
      ]
    },
    {
      "cell_type": "markdown",
      "source": [
        "# **LAB #06** - Files & Lists\n",
        "<br/>\n"
      ],
      "metadata": {
        "id": "qdM8hjkwAnQ5"
      }
    },
    {
      "cell_type": "markdown",
      "source": [
        "><table>\n",
        "## **Lab Overview**\n",
        "\n",
        "These lab questions will help develop your understanding of how to open and work with files (reading, writing, and appending) and will also test your understanding of lists - what they are, how they are structured, and how to use them.<br/>\n",
        "\n",
        "The tasks presented will cover some of the different use cases for these concepts - but are not exhaustive - and you're recommended to further your understanding via the content on the LMS, research (e.g., Searching *how can I use files to ...*), and on-going development of personal projects.\n",
        "></table>\n",
        "\n",
        "<br/><br/>\n",
        "\n"
      ],
      "metadata": {
        "id": "ax351qT1A2wO"
      }
    },
    {
      "cell_type": "markdown",
      "source": [
        "\n",
        "\n",
        "# **Question #1** - A Highscores Table\n",
        "---\n",
        "<br/>\n",
        "\n",
        "This question will be split across a few different parts to get you to concentrate on different areas of working with files and lists.<br/><br/>\n",
        "\n",
        "\n",
        "If you get stuck on a Part it is advised to seek help before continuing to the next Part as later tasks may be dependent on earlier ones.<br/><br/>\n",
        "\n",
        "Please don't hesitate to contact your facilitator for advice - we are here to help. With that said - it's always best if you have started to attempt the program (even a paper-based flowchart) so we can see where you're getting stuck and can provide help accordingly.\n"
      ],
      "metadata": {
        "id": "Ul0eUARrsGff"
      }
    },
    {
      "cell_type": "markdown",
      "source": [
        "## **Part A** - Creating a file\n",
        "---\n",
        "\n",
        "Here we will be retrieving data from the user input, adding it to a list, and then publishing it to a file so that it can persist after the program has been exited.<br/><br/>\n",
        "\n",
        "### Your Task\n",
        "\n",
        "Create a basic loop that reads in scores from the user until the user enters the sentinel value of -1. Each score should be added to a list. <br/><br/>\n",
        "\n",
        "After the loop has been exited, the program should take the top 10 scores and print them in order (highest to lowest) to the screen, and also to a file called `highscores.txt` and then the program should exit.\n",
        "\n",
        "<br/>\n"
      ],
      "metadata": {
        "id": "BLTrkBgqEoQR"
      }
    },
    {
      "cell_type": "markdown",
      "source": [
        "### Your Answer"
      ],
      "metadata": {
        "id": "sedot7JUuhD2"
      }
    },
    {
      "cell_type": "code",
      "source": [
        "# Student Name: Sean Travis\n",
        "# Student Number: 1035888\n",
        "\n",
        "\n",
        "scores = []\n",
        "\n",
        "\n",
        "while True:\n",
        "    try:\n",
        "        score = int(input(\"Enter score (-1 to exit): \"))\n",
        "        if score == -1:\n",
        "            break\n",
        "        scores.append(score)\n",
        "    except ValueError:\n",
        "        print()\n",
        "\n",
        "\n",
        "scores.sort(reverse=True)\n",
        "top_10_scores = scores[:10]\n",
        "\n",
        "\n",
        "print(\"\\nTop 10 Highscores:\")\n",
        "for score in top_10_scores:\n",
        "    print(score)\n",
        "\n",
        "\n",
        "with open(\"highscores.txt\", \"w\") as f:\n",
        "    for score in top_10_scores:\n",
        "        f.write(str(score) + \"\\n\")\n",
        "\n",
        "\n",
        "print(\"\\nTop 10 scores saved to highscores.txt file\")\n",
        "\n"
      ],
      "metadata": {
        "id": "9PP7YGX7odq2",
        "colab": {
          "base_uri": "https://localhost:8080/"
        },
        "outputId": "53c9d9d6-175a-46df-9f00-1a0011f0bb5c"
      },
      "execution_count": 1,
      "outputs": [
        {
          "output_type": "stream",
          "name": "stderr",
          "text": [
            "<>:32: SyntaxWarning: invalid escape sequence '\\T'\n",
            "<>:32: SyntaxWarning: invalid escape sequence '\\T'\n",
            "/tmp/ipython-input-100259949.py:32: SyntaxWarning: invalid escape sequence '\\T'\n",
            "  print(\"\\Top 10 scores saved to highscores.txt file\")\n"
          ]
        },
        {
          "output_type": "stream",
          "name": "stdout",
          "text": [
            "Enter score (-1 to exit): 79\n",
            "Enter score (-1 to exit): 105\n",
            "Enter score (-1 to exit): 69\n",
            "Enter score (-1 to exit): 54\n",
            "Enter score (-1 to exit): 78\n",
            "Enter score (-1 to exit): 36\n",
            "Enter score (-1 to exit): 45\n",
            "Enter score (-1 to exit): 95\n",
            "Enter score (-1 to exit): 12\n",
            "Enter score (-1 to exit): 64\n",
            "Enter score (-1 to exit): -\n",
            "\n",
            "Enter score (-1 to exit): -1\n",
            "\n",
            "Top 10 Highscores:\n",
            "105\n",
            "95\n",
            "79\n",
            "78\n",
            "69\n",
            "64\n",
            "54\n",
            "45\n",
            "36\n",
            "12\n",
            "\\Top 10 scores saved to highscores.txt file\n"
          ]
        }
      ]
    },
    {
      "cell_type": "markdown",
      "source": [
        "<Br/><br/>"
      ],
      "metadata": {
        "id": "QFxRj-X-yFdh"
      }
    },
    {
      "cell_type": "markdown",
      "source": [
        "## **Part B** - Data Permanence  \n",
        "---\n",
        "\n",
        "Here we will add the second part of retaining a highscores list - being able to read them back into the program.<br/><br/>\n",
        "\n",
        "### Your Task\n",
        "\n",
        "Copy your code from Part A and paste it into the code block below.<br/><br/>\n",
        "Next, you need to extend the program to:\n",
        "* open the `highscores.txt` file\n",
        "* read and print the current highscores list to the screen\n",
        "* populate the highscores list<br/><br/>\n",
        "\n",
        "Once this is done, you need to ensure that the functionality in Part A still works - that is, that you can take in scores via the loop and add them to the list, and then re-save them to the file.\n",
        "\n",
        "\n",
        "\n",
        "\n",
        "<br/>\n"
      ],
      "metadata": {
        "id": "DLlsIPyy7PBr"
      }
    },
    {
      "cell_type": "markdown",
      "source": [
        "### Your Answer"
      ],
      "metadata": {
        "id": "FLqsaUEC_g7E"
      }
    },
    {
      "cell_type": "code",
      "source": [
        "# Student Name: Sean Travis\n",
        "# Student Number: 1035888\n",
        "\n",
        "scores = []\n",
        "\n",
        "while True:\n",
        "    try:\n",
        "        score = int(input(\"Enter score (-1 to exit): \"))\n",
        "        if score == -1:\n",
        "            break\n",
        "        scores.append(score)\n",
        "    except ValueError:\n",
        "        print(\"Please enter a valid number.\")\n",
        "\n",
        "\n",
        "scores.sort(reverse=True)\n",
        "top_10_scores = scores[:10]\n",
        "\n",
        "print(\"\\nPart 1 - Top 10 Scores:\")\n",
        "for s in top_10_scores:\n",
        "    print(s)\n",
        "\n",
        "\n",
        "with open(\"highscores.txt\", \"w\") as f:\n",
        "    for s in top_10_scores:\n",
        "        f.write(str(s) + \"\\n\")\n",
        "\n",
        "print(\"\\nPart 1: Scores saved to highscores.txt\\n\")\n",
        "\n",
        "\n",
        "\n",
        "try:\n",
        "    with open(\"highscores.txt\", \"r\") as f:\n",
        "        highscores = [int(line.strip()) for line in f.readlines()]\n",
        "except FileNotFoundError:\n",
        "    print(\"No highscores file found — starting fresh.\")\n",
        "    highscores = []\n",
        "\n",
        "\n",
        "print(\"\\nCurrent Highscores:\")\n",
        "if highscores:\n",
        "    for s in highscores:\n",
        "        print(s)\n",
        "else:\n",
        "    print(\"No highscores yet.\")\n",
        "\n",
        "\n",
        "print(\"\\nEnter additional scores (-1 to exit):\")\n",
        "while True:\n",
        "    try:\n",
        "        score = int(input(\"Enter score (-1 to exit): \"))\n",
        "        if score == -1:\n",
        "            break\n",
        "        highscores.append(score)\n",
        "    except ValueError:\n",
        "        print(\"Please enter a valid number.\")\n",
        "\n",
        "\n",
        "highscores.sort(reverse=True)\n",
        "top_10_scores = highscores[:10]\n",
        "\n",
        "\n",
        "print(\"\\nUpdated Top 10 Highscores:\")\n",
        "for s in top_10_scores:\n",
        "    print(s)\n",
        "\n",
        "with open(\"highscores.txt\", \"w\") as f:\n",
        "    for s in top_10_scores:\n",
        "        f.write(str(s) + \"\\n\")\n",
        "\n",
        "print(\"\\nHighscores updated and saved to highscores.txt\")\n"
      ],
      "metadata": {
        "id": "3DESmazg7u-M",
        "colab": {
          "base_uri": "https://localhost:8080/"
        },
        "outputId": "fbb38449-746c-45e3-96ed-110fa7c43ba9"
      },
      "execution_count": 2,
      "outputs": [
        {
          "output_type": "stream",
          "name": "stdout",
          "text": [
            "Enter score (-1 to exit): 98\n",
            "Enter score (-1 to exit): 54\n",
            "Enter score (-1 to exit): 75\n",
            "Enter score (-1 to exit): 25\n",
            "Enter score (-1 to exit): 87\n",
            "Enter score (-1 to exit): 65\n",
            "Enter score (-1 to exit): 25\n",
            "Enter score (-1 to exit): 99\n",
            "Enter score (-1 to exit): 45\n",
            "Enter score (-1 to exit): 63\n",
            "Enter score (-1 to exit): 72\n",
            "Enter score (-1 to exit): -1\n",
            "\n",
            "Part 1 - Top 10 Scores:\n",
            "99\n",
            "98\n",
            "87\n",
            "75\n",
            "72\n",
            "65\n",
            "63\n",
            "54\n",
            "45\n",
            "25\n",
            "\n",
            "Part 1: Scores saved to highscores.txt\n",
            "\n",
            "\n",
            "Current Highscores:\n",
            "99\n",
            "98\n",
            "87\n",
            "75\n",
            "72\n",
            "65\n",
            "63\n",
            "54\n",
            "45\n",
            "25\n",
            "\n",
            "Enter additional scores (-1 to exit):\n",
            "Enter score (-1 to exit): 75\n",
            "Enter score (-1 to exit): 5558\n",
            "Enter score (-1 to exit): 4796\n",
            "Enter score (-1 to exit): 24644\n",
            "Enter score (-1 to exit): 65\n",
            "Enter score (-1 to exit): 21456\n",
            "Enter score (-1 to exit): 842\n",
            "Enter score (-1 to exit): 65\n",
            "Enter score (-1 to exit): 987\n",
            "Enter score (-1 to exit): 456\n",
            "Enter score (-1 to exit): -1\n",
            "\n",
            "Updated Top 10 Highscores:\n",
            "24644\n",
            "21456\n",
            "5558\n",
            "4796\n",
            "987\n",
            "842\n",
            "456\n",
            "99\n",
            "98\n",
            "87\n",
            "\n",
            "Highscores updated and saved to highscores.txt\n"
          ]
        }
      ]
    },
    {
      "cell_type": "markdown",
      "source": [
        "<br/><br/>"
      ],
      "metadata": {
        "id": "smBNf2JC7yzD"
      }
    },
    {
      "cell_type": "markdown",
      "source": [
        "## **Part C** - Further Functionalities **[ OPTIONAL! ]**\n",
        "---\n",
        "\n",
        "<br/>\n",
        "\n",
        "***Note: This part is optional and is not required to be completed***\n",
        "\n",
        "<br/>\n",
        "\n",
        "To make the highscores list closer to the real world, here are some additional tasks that you can implement if adventurous<br/><br/>\n",
        "\n",
        "### Your Task\n",
        "\n",
        "Copy your code from Part B and paste it into the code block below.<br/><br/>\n",
        "\n",
        "Try to add as many of the following as you can:\n",
        "* Add the ability to save & display a players name against their score\n",
        "* Add functionality to automatically save & display the date/time of the highscore (note: check `datetime` module)\n",
        "* Update the program to be menu-based rather than counting on loops and exiting/opening the program\n",
        "  * Have a menu that contains items for:<br/>\n",
        "    <input type=\"checkbox\"> Add new score<br/>\n",
        "    <input type=\"checkbox\"> View scores<br/>\n",
        "    <input type=\"checkbox\"> Delete score<br/>\n",
        "    <input type=\"checkbox\"> Modify score<br/>\n",
        "    <input type=\"checkbox\"> Clear highscore list<br/>\n",
        "    <input type=\"checkbox\"> Exit & Save<br/>\n",
        ">*Please tick off functionalities that you have completed*.\n",
        "\n",
        "And any further ideas you have to improve this program (if you do add extra functionalities, list them as comments at the top of the file underneath your name and student ID)\n",
        "<br/><br/>\n",
        "\n"
      ],
      "metadata": {
        "id": "3IHb76Mr-Hdj"
      }
    },
    {
      "cell_type": "markdown",
      "source": [
        "### Your Answer"
      ],
      "metadata": {
        "id": "SCY_xtUk_h-e"
      }
    },
    {
      "cell_type": "code",
      "source": [
        "# COPY CODE FROM PART B HERE"
      ],
      "metadata": {
        "id": "9_OmC1dG_KV3"
      },
      "execution_count": null,
      "outputs": []
    },
    {
      "cell_type": "markdown",
      "source": [
        "<br/><br/>"
      ],
      "metadata": {
        "id": "Bc2gMp6g_MoO"
      }
    },
    {
      "cell_type": "markdown",
      "source": [
        "# **Submission**\n",
        "---\n",
        "\n",
        "When you believe you have the program correctly working, please run the program and enter valid details for each program so that the output is apparent.\n",
        "<br/><br/>\n",
        "When you are ready to submit please\n",
        "\n",
        "*   go to `File` -> `Print` -> `Print PDF` and then upload and submit in the LMS.\n",
        "  *   feel free to also submit your artwork from question 1 to the LMS if you'd like to\n",
        "\n",
        "*   save your file to GitHub via: `File` -> `Save a copy in GitHub`\n"
      ],
      "metadata": {
        "id": "CxZ8SilaD9Gq"
      }
    }
  ]
}